{
 "cells": [
  {
   "cell_type": "code",
   "execution_count": 1,
   "metadata": {},
   "outputs": [],
   "source": [
    "import warnings\n",
    "warnings.filterwarnings('ignore')   # to avoid warnings\n",
    "\n",
    "import pandas as pd\n",
    "from scipy.stats import norm\n",
    "import numpy as np\n",
    "import matplotlib.pyplot as plt\n",
    "import seaborn as sns\n",
    "sns.set(style=\"darkgrid\")"
   ]
  },
  {
   "cell_type": "markdown",
   "metadata": {},
   "source": [
    "# pySpark - ML - Regressions"
   ]
  },
  {
   "cell_type": "code",
   "execution_count": 2,
   "metadata": {},
   "outputs": [
    {
     "data": {
      "text/plain": [
       "DataFrame[carat: double, cut: string, color: string, clarity: string, depth: double, table: double, price: int, x: double, y: double, z: double]"
      ]
     },
     "execution_count": 2,
     "metadata": {},
     "output_type": "execute_result"
    }
   ],
   "source": [
    "import findspark\n",
    "findspark.init(\"C:\\spark\\spark-3.0.1-bin-hadoop2.7\")\n",
    "from pyspark.sql import SparkSession\n",
    "spark = SparkSession.builder.getOrCreate()\n",
    "\n",
    "df = spark.read.format('com.databricks.spark.csv').options(header='true', inferschema='true').load('./diamonds2.csv')\n",
    "df"
   ]
  },
  {
   "cell_type": "markdown",
   "metadata": {},
   "source": [
    "# Feature engineering"
   ]
  },
  {
   "cell_type": "code",
   "execution_count": 3,
   "metadata": {},
   "outputs": [
    {
     "name": "stdout",
     "output_type": "stream",
     "text": [
      "+-----+-------+-----+-------+-----+-----+-----+----+----+----+\n",
      "|carat|    cut|color|clarity|depth|table|price|   x|   y|   z|\n",
      "+-----+-------+-----+-------+-----+-----+-----+----+----+----+\n",
      "| 0.23|  Ideal|    E|    SI2| 61.5| 55.0|  326|3.95|3.98|2.43|\n",
      "| 0.21|Premium|    E|    SI1| 59.8| 61.0|  326|3.89|3.84|2.31|\n",
      "| 0.23|   Good|    E|    VS1| 56.9| 65.0|  327|4.05|4.07|2.31|\n",
      "| 0.29|Premium|    I|    VS2| 62.4| 58.0|  334| 4.2|4.23|2.63|\n",
      "| 0.31|   Good|    J|    SI2| 63.3| 58.0|  335|4.34|4.35|2.75|\n",
      "+-----+-------+-----+-------+-----+-----+-----+----+----+----+\n",
      "only showing top 5 rows\n",
      "\n"
     ]
    }
   ],
   "source": [
    "df.show(5)"
   ]
  },
  {
   "cell_type": "code",
   "execution_count": 4,
   "metadata": {},
   "outputs": [],
   "source": [
    "categoricalCols = ['cut', 'color', 'clarity']\n",
    "continuousCols = ['carat', 'depth', 'table', 'x', 'y', 'z']\n",
    "labelCol = ['price']"
   ]
  },
  {
   "cell_type": "markdown",
   "metadata": {},
   "source": [
    "# Categorical to numerical pyspark"
   ]
  },
  {
   "cell_type": "code",
   "execution_count": 5,
   "metadata": {},
   "outputs": [
    {
     "name": "stdout",
     "output_type": "stream",
     "text": [
      "+-----+---------+-----+-------+-----+-----+-----+----+----+----+-------------+-----------+---------+\n",
      "|carat|      cut|color|clarity|depth|table|price|   x|   y|   z|clarity_index|color_index|cut_index|\n",
      "+-----+---------+-----+-------+-----+-----+-----+----+----+----+-------------+-----------+---------+\n",
      "| 0.23|    Ideal|    E|    SI2| 61.5| 55.0|  326|3.95|3.98|2.43|          2.0|        1.0|      0.0|\n",
      "| 0.21|  Premium|    E|    SI1| 59.8| 61.0|  326|3.89|3.84|2.31|          0.0|        1.0|      1.0|\n",
      "| 0.23|     Good|    E|    VS1| 56.9| 65.0|  327|4.05|4.07|2.31|          3.0|        1.0|      3.0|\n",
      "| 0.29|  Premium|    I|    VS2| 62.4| 58.0|  334| 4.2|4.23|2.63|          1.0|        5.0|      1.0|\n",
      "| 0.31|     Good|    J|    SI2| 63.3| 58.0|  335|4.34|4.35|2.75|          2.0|        6.0|      3.0|\n",
      "| 0.24|Very Good|    J|   VVS2| 62.8| 57.0|  336|3.94|3.96|2.48|          4.0|        6.0|      2.0|\n",
      "| 0.24|Very Good|    I|   VVS1| 62.3| 57.0|  336|3.95|3.98|2.47|          5.0|        5.0|      2.0|\n",
      "| 0.26|Very Good|    H|    SI1| 61.9| 55.0|  337|4.07|4.11|2.53|          0.0|        3.0|      2.0|\n",
      "| 0.22|     Fair|    E|    VS2| 65.1| 61.0|  337|3.87|3.78|2.49|          1.0|        1.0|      4.0|\n",
      "| 0.23|Very Good|    H|    VS1| 59.4| 61.0|  338| 4.0|4.05|2.39|          3.0|        3.0|      2.0|\n",
      "|  0.3|     Good|    J|    SI1| 64.0| 55.0|  339|4.25|4.28|2.73|          0.0|        6.0|      3.0|\n",
      "| 0.23|    Ideal|    J|    VS1| 62.8| 56.0|  340|3.93| 3.9|2.46|          3.0|        6.0|      0.0|\n",
      "| 0.22|  Premium|    F|    SI1| 60.4| 61.0|  342|3.88|3.84|2.33|          0.0|        2.0|      1.0|\n",
      "| 0.31|    Ideal|    J|    SI2| 62.2| 54.0|  344|4.35|4.37|2.71|          2.0|        6.0|      0.0|\n",
      "|  0.2|  Premium|    E|    SI2| 60.2| 62.0|  345|3.79|3.75|2.27|          2.0|        1.0|      1.0|\n",
      "| 0.32|  Premium|    E|     I1| 60.9| 58.0|  345|4.38|4.42|2.68|          7.0|        1.0|      1.0|\n",
      "|  0.3|    Ideal|    I|    SI2| 62.0| 54.0|  348|4.31|4.34|2.68|          2.0|        5.0|      0.0|\n",
      "|  0.3|     Good|    J|    SI1| 63.4| 54.0|  351|4.23|4.29| 2.7|          0.0|        6.0|      3.0|\n",
      "|  0.3|     Good|    J|    SI1| 63.8| 56.0|  351|4.23|4.26|2.71|          0.0|        6.0|      3.0|\n",
      "|  0.3|Very Good|    J|    SI1| 62.7| 59.0|  351|4.21|4.27|2.66|          0.0|        6.0|      2.0|\n",
      "+-----+---------+-----+-------+-----+-----+-----+----+----+----+-------------+-----------+---------+\n",
      "only showing top 20 rows\n",
      "\n"
     ]
    }
   ],
   "source": [
    "from pyspark.ml import Pipeline\n",
    "from pyspark.ml.feature import StringIndexer\n",
    "\n",
    "indexers = [StringIndexer(inputCol=column, outputCol=column+\"_index\").fit(df) for column in list(set(df.columns)\\\n",
    "                                                    -set(['carat','depth','table', 'price', 'x', 'y', 'z' ])) ]\n",
    "\n",
    "\n",
    "pipeline = Pipeline(stages=indexers)\n",
    "df_r = pipeline.fit(df).transform(df)\n",
    "\n",
    "df_r.show()"
   ]
  },
  {
   "cell_type": "code",
   "execution_count": 6,
   "metadata": {},
   "outputs": [],
   "source": [
    "# Dropping columns\n",
    "columns_to_drop = ['cut', 'color', 'clarity']\n",
    "\n",
    "df_droped = df.drop(*columns_to_drop)"
   ]
  },
  {
   "cell_type": "code",
   "execution_count": 7,
   "metadata": {},
   "outputs": [
    {
     "name": "stdout",
     "output_type": "stream",
     "text": [
      "+-----+-----+-----+-----+----+----+----+\n",
      "|carat|depth|table|price|   x|   y|   z|\n",
      "+-----+-----+-----+-----+----+----+----+\n",
      "| 0.23| 61.5| 55.0|  326|3.95|3.98|2.43|\n",
      "| 0.21| 59.8| 61.0|  326|3.89|3.84|2.31|\n",
      "| 0.23| 56.9| 65.0|  327|4.05|4.07|2.31|\n",
      "| 0.29| 62.4| 58.0|  334| 4.2|4.23|2.63|\n",
      "| 0.31| 63.3| 58.0|  335|4.34|4.35|2.75|\n",
      "| 0.24| 62.8| 57.0|  336|3.94|3.96|2.48|\n",
      "| 0.24| 62.3| 57.0|  336|3.95|3.98|2.47|\n",
      "| 0.26| 61.9| 55.0|  337|4.07|4.11|2.53|\n",
      "| 0.22| 65.1| 61.0|  337|3.87|3.78|2.49|\n",
      "| 0.23| 59.4| 61.0|  338| 4.0|4.05|2.39|\n",
      "|  0.3| 64.0| 55.0|  339|4.25|4.28|2.73|\n",
      "| 0.23| 62.8| 56.0|  340|3.93| 3.9|2.46|\n",
      "| 0.22| 60.4| 61.0|  342|3.88|3.84|2.33|\n",
      "| 0.31| 62.2| 54.0|  344|4.35|4.37|2.71|\n",
      "|  0.2| 60.2| 62.0|  345|3.79|3.75|2.27|\n",
      "| 0.32| 60.9| 58.0|  345|4.38|4.42|2.68|\n",
      "|  0.3| 62.0| 54.0|  348|4.31|4.34|2.68|\n",
      "|  0.3| 63.4| 54.0|  351|4.23|4.29| 2.7|\n",
      "|  0.3| 63.8| 56.0|  351|4.23|4.26|2.71|\n",
      "|  0.3| 62.7| 59.0|  351|4.21|4.27|2.66|\n",
      "+-----+-----+-----+-----+----+----+----+\n",
      "only showing top 20 rows\n",
      "\n"
     ]
    }
   ],
   "source": [
    "df_droped.show()"
   ]
  },
  {
   "cell_type": "code",
   "execution_count": 8,
   "metadata": {},
   "outputs": [
    {
     "name": "stdout",
     "output_type": "stream",
     "text": [
      "root\n",
      " |-- carat: double (nullable = true)\n",
      " |-- depth: double (nullable = true)\n",
      " |-- table: double (nullable = true)\n",
      " |-- price: integer (nullable = true)\n",
      " |-- x: double (nullable = true)\n",
      " |-- y: double (nullable = true)\n",
      " |-- z: double (nullable = true)\n",
      "\n"
     ]
    }
   ],
   "source": [
    "df_droped.printSchema()"
   ]
  },
  {
   "cell_type": "code",
   "execution_count": 9,
   "metadata": {},
   "outputs": [
    {
     "data": {
      "text/html": [
       "<div>\n",
       "<style scoped>\n",
       "    .dataframe tbody tr th:only-of-type {\n",
       "        vertical-align: middle;\n",
       "    }\n",
       "\n",
       "    .dataframe tbody tr th {\n",
       "        vertical-align: top;\n",
       "    }\n",
       "\n",
       "    .dataframe thead th {\n",
       "        text-align: right;\n",
       "    }\n",
       "</style>\n",
       "<table border=\"1\" class=\"dataframe\">\n",
       "  <thead>\n",
       "    <tr style=\"text-align: right;\">\n",
       "      <th></th>\n",
       "      <th>0</th>\n",
       "      <th>1</th>\n",
       "      <th>2</th>\n",
       "      <th>3</th>\n",
       "      <th>4</th>\n",
       "    </tr>\n",
       "  </thead>\n",
       "  <tbody>\n",
       "    <tr>\n",
       "      <th>summary</th>\n",
       "      <td>count</td>\n",
       "      <td>mean</td>\n",
       "      <td>stddev</td>\n",
       "      <td>min</td>\n",
       "      <td>max</td>\n",
       "    </tr>\n",
       "    <tr>\n",
       "      <th>carat</th>\n",
       "      <td>53940</td>\n",
       "      <td>0.7979397478679852</td>\n",
       "      <td>0.4740112444054196</td>\n",
       "      <td>0.2</td>\n",
       "      <td>5.01</td>\n",
       "    </tr>\n",
       "    <tr>\n",
       "      <th>depth</th>\n",
       "      <td>53940</td>\n",
       "      <td>61.74940489432624</td>\n",
       "      <td>1.4326213188336525</td>\n",
       "      <td>43.0</td>\n",
       "      <td>79.0</td>\n",
       "    </tr>\n",
       "    <tr>\n",
       "      <th>table</th>\n",
       "      <td>53940</td>\n",
       "      <td>57.45718390804603</td>\n",
       "      <td>2.2344905628213247</td>\n",
       "      <td>43.0</td>\n",
       "      <td>95.0</td>\n",
       "    </tr>\n",
       "    <tr>\n",
       "      <th>price</th>\n",
       "      <td>53940</td>\n",
       "      <td>3932.799721913237</td>\n",
       "      <td>3989.439738146397</td>\n",
       "      <td>326</td>\n",
       "      <td>18823</td>\n",
       "    </tr>\n",
       "    <tr>\n",
       "      <th>x</th>\n",
       "      <td>53940</td>\n",
       "      <td>5.731157211716609</td>\n",
       "      <td>1.1217607467924915</td>\n",
       "      <td>0.0</td>\n",
       "      <td>10.74</td>\n",
       "    </tr>\n",
       "    <tr>\n",
       "      <th>y</th>\n",
       "      <td>53940</td>\n",
       "      <td>5.734525954764462</td>\n",
       "      <td>1.1421346741235616</td>\n",
       "      <td>0.0</td>\n",
       "      <td>58.9</td>\n",
       "    </tr>\n",
       "    <tr>\n",
       "      <th>z</th>\n",
       "      <td>53940</td>\n",
       "      <td>3.5387337782723316</td>\n",
       "      <td>0.7056988469499883</td>\n",
       "      <td>0.0</td>\n",
       "      <td>31.8</td>\n",
       "    </tr>\n",
       "  </tbody>\n",
       "</table>\n",
       "</div>"
      ],
      "text/plain": [
       "             0                   1                   2     3      4\n",
       "summary  count                mean              stddev   min    max\n",
       "carat    53940  0.7979397478679852  0.4740112444054196   0.2   5.01\n",
       "depth    53940   61.74940489432624  1.4326213188336525  43.0   79.0\n",
       "table    53940   57.45718390804603  2.2344905628213247  43.0   95.0\n",
       "price    53940   3932.799721913237   3989.439738146397   326  18823\n",
       "x        53940   5.731157211716609  1.1217607467924915   0.0  10.74\n",
       "y        53940   5.734525954764462  1.1421346741235616   0.0   58.9\n",
       "z        53940  3.5387337782723316  0.7056988469499883   0.0   31.8"
      ]
     },
     "execution_count": 9,
     "metadata": {},
     "output_type": "execute_result"
    }
   ],
   "source": [
    "df_droped.describe().toPandas().transpose()"
   ]
  },
  {
   "cell_type": "markdown",
   "metadata": {},
   "source": [
    "# Correlation between features and label (price)"
   ]
  },
  {
   "cell_type": "code",
   "execution_count": 12,
   "metadata": {},
   "outputs": [
    {
     "name": "stdout",
     "output_type": "stream",
     "text": [
      "Correlation to price for  carat 0.9215913011934687\n",
      "Correlation to price for  depth -0.010647404584155439\n",
      "Correlation to price for  table 0.12713390212172268\n",
      "Correlation to price for  price 1.0\n",
      "Correlation to price for  x 0.8844351610161171\n",
      "Correlation to price for  y 0.8654208978641909\n",
      "Correlation to price for  z 0.8612494438514451\n"
     ]
    }
   ],
   "source": [
    "import six\n",
    "for i in df_droped.columns:\n",
    "    if not( isinstance(df_droped.select(i).take(1)[0][0], six.string_types)):\n",
    "        print( \"Correlation to price for \", i, df_droped.stat.corr('price',i))"
   ]
  },
  {
   "cell_type": "code",
   "execution_count": 13,
   "metadata": {},
   "outputs": [
    {
     "data": {
      "text/plain": [
       "['carat', 'depth', 'table', 'price', 'x', 'y', 'z']"
      ]
     },
     "execution_count": 13,
     "metadata": {},
     "output_type": "execute_result"
    }
   ],
   "source": [
    "df_droped.columns"
   ]
  },
  {
   "cell_type": "markdown",
   "metadata": {},
   "source": [
    "# Vector assembler"
   ]
  },
  {
   "cell_type": "code",
   "execution_count": 14,
   "metadata": {},
   "outputs": [
    {
     "name": "stdout",
     "output_type": "stream",
     "text": [
      "+--------------------+-----+\n",
      "|            features|price|\n",
      "+--------------------+-----+\n",
      "|[0.23,61.5,55.0,3...|  326|\n",
      "|[0.21,59.8,61.0,3...|  326|\n",
      "|[0.23,56.9,65.0,4...|  327|\n",
      "+--------------------+-----+\n",
      "only showing top 3 rows\n",
      "\n"
     ]
    }
   ],
   "source": [
    "from pyspark.ml.feature import VectorAssembler\n",
    "\n",
    "vectorAssembler = VectorAssembler(inputCols = ['carat', 'depth', 'table', 'x', 'y', 'z'], outputCol = 'features')\n",
    "vdf_droped = vectorAssembler.transform(df_droped)\n",
    "vdf_droped = vdf_droped.select(['features', 'price'])\n",
    "vdf_droped.show(3)"
   ]
  },
  {
   "cell_type": "markdown",
   "metadata": {},
   "source": [
    "# Split dataset (vectorized) into train and test"
   ]
  },
  {
   "cell_type": "code",
   "execution_count": 28,
   "metadata": {},
   "outputs": [],
   "source": [
    "splits = vdf_droped.randomSplit([0.7, 0.3])\n",
    "train_df = splits[0]\n",
    "test_df = splits[1]"
   ]
  },
  {
   "cell_type": "markdown",
   "metadata": {},
   "source": [
    "# Linear regression model"
   ]
  },
  {
   "cell_type": "code",
   "execution_count": 16,
   "metadata": {},
   "outputs": [
    {
     "name": "stdout",
     "output_type": "stream",
     "text": [
      "Coefficients: [9737.017406872577,-169.02432337240174,-95.1897208418857,-49.28073820328152,-564.3207055830457,-346.06745754703496]\n",
      "Intercept: 16813.323272545374\n"
     ]
    }
   ],
   "source": [
    "# training model\n",
    "from pyspark.ml.regression import LinearRegression\n",
    "lr = LinearRegression(featuresCol = 'features', labelCol='price', maxIter=10, regParam=0.3, elasticNetParam=0.8)\n",
    "lr_model = lr.fit(train_df)\n",
    "print(\"Coefficients: \" + str(lr_model.coefficients))\n",
    "print(\"Intercept: \" + str(lr_model.intercept))"
   ]
  },
  {
   "cell_type": "code",
   "execution_count": 17,
   "metadata": {},
   "outputs": [
    {
     "name": "stdout",
     "output_type": "stream",
     "text": [
      "RMSE: 1500.600623\n",
      "r2: 0.857431\n"
     ]
    }
   ],
   "source": [
    "# evaluation\n",
    "trainingSummary = lr_model.summary\n",
    "print(\"RMSE: %f\" % trainingSummary.rootMeanSquaredError)\n",
    "print(\"r2: %f\" % trainingSummary.r2)"
   ]
  },
  {
   "cell_type": "code",
   "execution_count": 18,
   "metadata": {},
   "outputs": [
    {
     "name": "stdout",
     "output_type": "stream",
     "text": [
      "+-------+------------------+\n",
      "|summary|             price|\n",
      "+-------+------------------+\n",
      "|  count|             37839|\n",
      "|   mean| 3921.613229736515|\n",
      "| stddev|3974.2756974345984|\n",
      "|    min|               326|\n",
      "|    max|             18823|\n",
      "+-------+------------------+\n",
      "\n"
     ]
    }
   ],
   "source": [
    "train_df.describe().show()"
   ]
  },
  {
   "cell_type": "code",
   "execution_count": 19,
   "metadata": {},
   "outputs": [
    {
     "name": "stdout",
     "output_type": "stream",
     "text": [
      "+-------------------+-----+--------------------+\n",
      "|         prediction|price|            features|\n",
      "+-------------------+-----+--------------------+\n",
      "|-354.47856273282014|  367|[0.2,59.7,62.0,3....|\n",
      "|-345.06598784146263|  367|[0.2,59.8,62.0,3....|\n",
      "|-404.84997765423395|  345|[0.2,60.2,62.0,3....|\n",
      "| -181.6690701574771|  367|[0.2,61.5,57.0,3....|\n",
      "| -463.9344833993928|  367|[0.2,61.7,60.0,3....|\n",
      "+-------------------+-----+--------------------+\n",
      "only showing top 5 rows\n",
      "\n",
      "R Squared (R2) on test data = 0.854443\n"
     ]
    }
   ],
   "source": [
    "# Predictions on test_df\n",
    "lr_predictions = lr_model.transform(test_df)\n",
    "lr_predictions.select(\"prediction\",\"price\",\"features\").show(5)\n",
    "\n",
    "from pyspark.ml.evaluation import RegressionEvaluator\n",
    "lr_evaluator = RegressionEvaluator(predictionCol=\"prediction\", \\\n",
    "                 labelCol=\"price\",metricName=\"r2\")\n",
    "\n",
    "print(\"R Squared (R2) on test data = %g\" % lr_evaluator.evaluate(lr_predictions))"
   ]
  },
  {
   "cell_type": "code",
   "execution_count": 20,
   "metadata": {},
   "outputs": [
    {
     "name": "stdout",
     "output_type": "stream",
     "text": [
      "Root Mean Squared Error (RMSE) on test data = 1535.51\n"
     ]
    }
   ],
   "source": [
    "# Model Evaluation on test_df\n",
    "test_result = lr_model.evaluate(test_df)\n",
    "print(\"Root Mean Squared Error (RMSE) on test data = %g\" % test_result.rootMeanSquaredError)"
   ]
  },
  {
   "cell_type": "code",
   "execution_count": 21,
   "metadata": {},
   "outputs": [
    {
     "name": "stdout",
     "output_type": "stream",
     "text": [
      "numIterations: 11\n",
      "objectiveHistory: [0.5, 0.41595811977846303, 0.1772436032044164, 0.09628115640565678, 0.0952807389717537, 0.0874152102635148, 0.08098418374048308, 0.11338753634409142, 0.07158281635508934, 0.07149643161193148, 0.07138613274685973]\n",
      "+------------------+\n",
      "|         residuals|\n",
      "+------------------+\n",
      "|386.17456012872935|\n",
      "|  85.6303089779467|\n",
      "|   673.62131497265|\n",
      "| 887.1735661596431|\n",
      "|127.59513409366264|\n",
      "| 540.2399890193483|\n",
      "|  528.470101027302|\n",
      "| 624.8295507552284|\n",
      "| 687.1774591230969|\n",
      "| 494.2560603229613|\n",
      "| 502.4318197623361|\n",
      "| 555.1058170936922|\n",
      "| 566.7129507429709|\n",
      "| 846.6477195579246|\n",
      "|1377.1460140837698|\n",
      "| 374.7666668661004|\n",
      "| 236.0947092861643|\n",
      "|-495.6231367507571|\n",
      "|114.15930404382743|\n",
      "| 662.0685870851667|\n",
      "+------------------+\n",
      "only showing top 20 rows\n",
      "\n"
     ]
    }
   ],
   "source": [
    "print(\"numIterations: %d\" % trainingSummary.totalIterations)\n",
    "print(\"objectiveHistory: %s\" % str(trainingSummary.objectiveHistory))\n",
    "trainingSummary.residuals.show()"
   ]
  },
  {
   "cell_type": "code",
   "execution_count": 22,
   "metadata": {},
   "outputs": [
    {
     "name": "stdout",
     "output_type": "stream",
     "text": [
      "+-------------------+-----+--------------------+\n",
      "|         prediction|price|            features|\n",
      "+-------------------+-----+--------------------+\n",
      "|-354.47856273282014|  367|[0.2,59.7,62.0,3....|\n",
      "|-345.06598784146263|  367|[0.2,59.8,62.0,3....|\n",
      "|-404.84997765423395|  345|[0.2,60.2,62.0,3....|\n",
      "| -181.6690701574771|  367|[0.2,61.5,57.0,3....|\n",
      "| -463.9344833993928|  367|[0.2,61.7,60.0,3....|\n",
      "| -274.9492313846713|  367|[0.2,62.2,57.0,3....|\n",
      "| -540.8050196713775|  367|[0.2,62.3,60.0,3....|\n",
      "| -666.2678559660126|  367|[0.2,63.4,59.0,3....|\n",
      "|  178.8980971217934|  386|[0.21,58.3,59.0,3...|\n",
      "| -195.4777484612714|  386|[0.21,59.1,62.0,3...|\n",
      "|-200.33844505727393|  404|[0.22,61.6,58.0,3...|\n",
      "|  463.9631888693384|  395|[0.23,56.2,60.0,4...|\n",
      "|  314.1802245495128|  498|[0.23,56.3,62.0,4...|\n",
      "| 323.84069595617257|  550|[0.23,58.1,59.0,4...|\n",
      "| -82.67018578036004|  468|[0.23,58.1,63.0,4...|\n",
      "|   46.7555372045972|  530|[0.23,58.6,61.0,4...|\n",
      "| -43.50824474649926|  373|[0.23,59.0,61.0,4...|\n",
      "| -218.3662859313008|  485|[0.23,59.0,63.0,3...|\n",
      "| 125.31117230826567|  402|[0.23,59.1,59.0,4...|\n",
      "| -98.35313783770107|  505|[0.23,59.4,61.0,4...|\n",
      "+-------------------+-----+--------------------+\n",
      "only showing top 20 rows\n",
      "\n"
     ]
    }
   ],
   "source": [
    "# Predictions on test_df\n",
    "predictions = lr_model.transform(test_df)\n",
    "predictions.select(\"prediction\",\"price\",\"features\").show()"
   ]
  },
  {
   "cell_type": "markdown",
   "metadata": {},
   "source": [
    "# Decision Tree Regression"
   ]
  },
  {
   "cell_type": "code",
   "execution_count": 23,
   "metadata": {},
   "outputs": [
    {
     "name": "stdout",
     "output_type": "stream",
     "text": [
      "Root Mean Squared Error (RMSE) on test data = 1428.97\n"
     ]
    }
   ],
   "source": [
    "# Decision Tree Regression \n",
    "from pyspark.ml.regression import DecisionTreeRegressor\n",
    "dt = DecisionTreeRegressor(featuresCol ='features', labelCol = 'price')\n",
    "dt_model = dt.fit(train_df)\n",
    "dt_predictions = dt_model.transform(test_df)\n",
    "dt_evaluator = RegressionEvaluator(\n",
    "    labelCol=\"price\", predictionCol=\"prediction\", metricName=\"rmse\")\n",
    "\n",
    "rmse = dt_evaluator.evaluate(dt_predictions)\n",
    "print(\"Root Mean Squared Error (RMSE) on test data = %g\" % rmse)"
   ]
  },
  {
   "cell_type": "code",
   "execution_count": 24,
   "metadata": {},
   "outputs": [
    {
     "data": {
      "text/plain": [
       "SparseVector(6, {0: 0.7303, 1: 0.0027, 2: 0.0016, 3: 0.0005, 4: 0.2648})"
      ]
     },
     "execution_count": 24,
     "metadata": {},
     "output_type": "execute_result"
    }
   ],
   "source": [
    "dt_model.featureImportances"
   ]
  },
  {
   "cell_type": "code",
   "execution_count": 25,
   "metadata": {},
   "outputs": [
    {
     "data": {
      "text/plain": [
       "[Row(carat=0.23, depth=61.5, table=55.0, price=326, x=3.95, y=3.98, z=2.43)]"
      ]
     },
     "execution_count": 25,
     "metadata": {},
     "output_type": "execute_result"
    }
   ],
   "source": [
    "df_droped.take(1)"
   ]
  },
  {
   "cell_type": "markdown",
   "metadata": {},
   "source": [
    "# Gradient-boosted tree regression"
   ]
  },
  {
   "cell_type": "code",
   "execution_count": 26,
   "metadata": {},
   "outputs": [
    {
     "name": "stdout",
     "output_type": "stream",
     "text": [
      "+-----------------+-----+--------------------+\n",
      "|       prediction|price|            features|\n",
      "+-----------------+-----+--------------------+\n",
      "|509.3355056342071|  367|[0.2,59.7,62.0,3....|\n",
      "|509.3355056342071|  367|[0.2,59.8,62.0,3....|\n",
      "|509.3355056342071|  345|[0.2,60.2,62.0,3....|\n",
      "|610.1423440788802|  367|[0.2,61.5,57.0,3....|\n",
      "|610.1423440788802|  367|[0.2,61.7,60.0,3....|\n",
      "+-----------------+-----+--------------------+\n",
      "only showing top 5 rows\n",
      "\n"
     ]
    }
   ],
   "source": [
    "# Gradient-boosted tree regression \n",
    "from pyspark.ml.regression import GBTRegressor\n",
    "gbt = GBTRegressor(featuresCol = 'features', labelCol = 'price', maxIter=10)\n",
    "gbt_model = gbt.fit(train_df)\n",
    "gbt_predictions = gbt_model.transform(test_df)\n",
    "gbt_predictions.select('prediction', 'price', 'features').show(5)"
   ]
  },
  {
   "cell_type": "code",
   "execution_count": 27,
   "metadata": {},
   "outputs": [
    {
     "name": "stdout",
     "output_type": "stream",
     "text": [
      "Root Mean Squared Error (RMSE) on test data = 1400.35\n"
     ]
    }
   ],
   "source": [
    "gbt_evaluator = RegressionEvaluator(\n",
    "    labelCol=\"price\", predictionCol=\"prediction\", metricName=\"rmse\")\n",
    "rmse = gbt_evaluator.evaluate(gbt_predictions)\n",
    "print(\"Root Mean Squared Error (RMSE) on test data = %g\" % rmse)"
   ]
  },
  {
   "cell_type": "code",
   "execution_count": null,
   "metadata": {},
   "outputs": [],
   "source": []
  }
 ],
 "metadata": {
  "kernelspec": {
   "display_name": "Python 3",
   "language": "python",
   "name": "python3"
  },
  "language_info": {
   "codemirror_mode": {
    "name": "ipython",
    "version": 3
   },
   "file_extension": ".py",
   "mimetype": "text/x-python",
   "name": "python",
   "nbconvert_exporter": "python",
   "pygments_lexer": "ipython3",
   "version": "3.8.3"
  }
 },
 "nbformat": 4,
 "nbformat_minor": 4
}
